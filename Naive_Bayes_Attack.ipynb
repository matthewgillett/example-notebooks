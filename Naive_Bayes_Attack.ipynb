{
 "cells": [
  {
   "cell_type": "markdown",
   "id": "fac78802",
   "metadata": {},
   "source": [
    "## Simple TextAttack Demo on a Scikit-learn model\n",
    "This is a basic sample of using TextAttack on a Scikit-Learn Naive Bayes model. Much of the code is taken and adapted from TextAttack tutorial notebook found here:\n",
    "https://github.com/QData/TextAttack/tree/master/docs/2notebook"
   ]
  },
  {
   "cell_type": "code",
   "execution_count": 1,
   "id": "42ccf19e",
   "metadata": {},
   "outputs": [],
   "source": [
    "import datasets\n",
    "import pandas as pd\n",
    "import numpy as np\n",
    "\n",
    "from sklearn.feature_extraction.text import CountVectorizer\n",
    "from sklearn.naive_bayes import MultinomialNB\n",
    "from sklearn.metrics import classification_report\n",
    "\n",
    "from textattack.attack_recipes import TextFoolerJin2019\n",
    "from textattack.attack_recipes import Pruthi2019\n",
    "from textattack import Attacker\n",
    "from textattack import AttackArgs\n",
    "from textattack.datasets import Dataset\n",
    "from textattack.models.wrappers import SklearnModelWrapper\n",
    "from textattack.loggers import CSVLogger\n",
    "\n",
    "from IPython.display import display, HTML"
   ]
  },
  {
   "cell_type": "code",
   "execution_count": 2,
   "id": "c6d1e182",
   "metadata": {},
   "outputs": [
    {
     "name": "stderr",
     "output_type": "stream",
     "text": [
      "Using custom data configuration default\n",
      "Reusing dataset rotten_tomatoes (/Users/teknetik/.cache/huggingface/datasets/rotten_tomatoes/default/1.0.0/40d411e45a6ce3484deed7cc15b82a53dad9a72aafd9f86f8f227134bec5ca46)\n"
     ]
    },
    {
     "data": {
      "application/vnd.jupyter.widget-view+json": {
       "model_id": "0ba706719b5b40a49aace97a417de0ad",
       "version_major": 2,
       "version_minor": 0
      },
      "text/plain": [
       "  0%|          | 0/3 [00:00<?, ?it/s]"
      ]
     },
     "metadata": {},
     "output_type": "display_data"
    }
   ],
   "source": [
    "dataset = datasets.load_dataset('rotten_tomatoes')\n",
    "\n",
    "df_train = pd.DataFrame(dataset['train'])\n",
    "df_test = pd.DataFrame(dataset['test'])\n",
    "\n",
    "X_train = df_train['text']\n",
    "y_train = df_train['label']\n",
    "\n",
    "X_test = df_test['text']\n",
    "y_test = df_test['label']"
   ]
  },
  {
   "cell_type": "code",
   "execution_count": 3,
   "id": "d610a501",
   "metadata": {},
   "outputs": [],
   "source": [
    "count_vector = CountVectorizer(max_features=100, stop_words='english')\n",
    "count_fit = count_vector.fit(X_train)"
   ]
  },
  {
   "cell_type": "code",
   "execution_count": 4,
   "id": "94ccb4db",
   "metadata": {},
   "outputs": [
    {
     "data": {
      "text/plain": [
       "(8530, 100)"
      ]
     },
     "execution_count": 4,
     "metadata": {},
     "output_type": "execute_result"
    }
   ],
   "source": [
    "X_train_counts = pd.DataFrame(count_fit.transform(X_train).toarray(), columns=count_vector.get_feature_names_out())\n",
    "X_train_counts.shape"
   ]
  },
  {
   "cell_type": "code",
   "execution_count": 5,
   "id": "2d8ff289",
   "metadata": {},
   "outputs": [
    {
     "data": {
      "text/plain": [
       "(1066, 100)"
      ]
     },
     "execution_count": 5,
     "metadata": {},
     "output_type": "execute_result"
    }
   ],
   "source": [
    "X_test_counts = pd.DataFrame(count_fit.transform(X_test).toarray(), columns=count_vector.get_feature_names_out())\n",
    "X_test_counts.shape"
   ]
  },
  {
   "cell_type": "code",
   "execution_count": 6,
   "id": "786bf0a5",
   "metadata": {},
   "outputs": [],
   "source": [
    "# Train Naive Bayes model\n",
    "nb = MultinomialNB().fit(X_train_counts, y_train)"
   ]
  },
  {
   "cell_type": "code",
   "execution_count": 7,
   "id": "01f1396b",
   "metadata": {},
   "outputs": [
    {
     "name": "stdout",
     "output_type": "stream",
     "text": [
      "Training accuracy:  0.6192262602579133\n",
      "Testing accuracy:  0.625703564727955\n",
      "\n",
      "\n",
      "              precision    recall  f1-score   support\n",
      "\n",
      "           0       0.61      0.69      0.65       533\n",
      "           1       0.64      0.56      0.60       533\n",
      "\n",
      "    accuracy                           0.63      1066\n",
      "   macro avg       0.63      0.63      0.62      1066\n",
      "weighted avg       0.63      0.63      0.62      1066\n",
      "\n"
     ]
    }
   ],
   "source": [
    "predicted = nb.predict(X_test_counts)\n",
    "\n",
    "print('Training accuracy: ', nb.score(X_train_counts, y_train))\n",
    "print('Testing accuracy: ', nb.score(X_test_counts, y_test))\n",
    "print('\\n')\n",
    "print(classification_report(y_test, predicted))"
   ]
  },
  {
   "cell_type": "markdown",
   "id": "760ab50a",
   "metadata": {},
   "source": [
    "### Now that we have a trained model, we can use TextAttack to generate adversarial examples to \"attack\" the model"
   ]
  },
  {
   "cell_type": "code",
   "execution_count": 8,
   "id": "5b2277f2",
   "metadata": {},
   "outputs": [],
   "source": [
    "# This is a modified version of SklearnModelWrapper with the updated scikit-learn tokenizer method name.\n",
    "# Code taken from: https://github.com/QData/TextAttack/blob/master/textattack/models/wrappers/sklearn_model_wrapper.py\n",
    "class SklearnModelWrapperUpdate(SklearnModelWrapper):\n",
    "    \"\"\"Loads a scikit-learn model and tokenizer (tokenizer implements\n",
    "    `transform` and model implements `predict_proba`).\n",
    "\n",
    "    May need to be extended and modified for different types of\n",
    "    tokenizers.\n",
    "    \"\"\"\n",
    "\n",
    "    def __call__(self, text_input_list, batch_size=None):\n",
    "        encoded_text_matrix = self.tokenizer.transform(text_input_list).toarray()\n",
    "        tokenized_text_df = pd.DataFrame(\n",
    "            encoded_text_matrix, columns=self.tokenizer.get_feature_names_out()\n",
    "        )\n",
    "        return self.model.predict_proba(tokenized_text_df)"
   ]
  },
  {
   "cell_type": "code",
   "execution_count": 9,
   "id": "c240a946",
   "metadata": {},
   "outputs": [],
   "source": [
    "pd.options.display.max_colwidth = 480\n",
    "\n",
    "def display_log(result):\n",
    "    logger = CSVLogger(color_method='html')\n",
    "\n",
    "    for result in attack_results:\n",
    "        logger.log_attack_result(result)\n",
    "\n",
    "    logger.flush()\n",
    "\n",
    "    display(HTML(logger.df[['original_text', 'perturbed_text', 'original_output', \n",
    "                            'perturbed_output', 'ground_truth_output']].to_html(escape=False)))"
   ]
  },
  {
   "cell_type": "code",
   "execution_count": 10,
   "id": "e37619f3",
   "metadata": {},
   "outputs": [],
   "source": [
    "model_wrapper = SklearnModelWrapperUpdate(nb, count_vector)"
   ]
  },
  {
   "cell_type": "code",
   "execution_count": 11,
   "id": "271c4fb9",
   "metadata": {},
   "outputs": [],
   "source": [
    "# Convert our test data into a textattack compatible dataset\n",
    "dataset_attack = Dataset([(x[0], x[1]) for x in df_test.values])"
   ]
  },
  {
   "cell_type": "code",
   "execution_count": 12,
   "id": "adca3fee",
   "metadata": {},
   "outputs": [
    {
     "name": "stderr",
     "output_type": "stream",
     "text": [
      "textattack: Unknown if model of class <class 'sklearn.naive_bayes.MultinomialNB'> compatible with goal function <class 'textattack.goal_functions.classification.untargeted_classification.UntargetedClassification'>.\n"
     ]
    },
    {
     "name": "stdout",
     "output_type": "stream",
     "text": [
      "Attack(\n",
      "  (search_method): GreedyWordSwapWIR(\n",
      "    (wir_method):  delete\n",
      "  )\n",
      "  (goal_function):  UntargetedClassification\n",
      "  (transformation):  WordSwapEmbedding(\n",
      "    (max_candidates):  50\n",
      "    (embedding):  WordEmbedding\n",
      "  )\n",
      "  (constraints): \n",
      "    (0): WordEmbeddingDistance(\n",
      "        (embedding):  WordEmbedding\n",
      "        (min_cos_sim):  0.5\n",
      "        (cased):  False\n",
      "        (include_unknown_words):  True\n",
      "        (compare_against_original):  True\n",
      "      )\n",
      "    (1): PartOfSpeech(\n",
      "        (tagger_type):  nltk\n",
      "        (tagset):  universal\n",
      "        (allow_verb_noun_swap):  True\n",
      "        (compare_against_original):  True\n",
      "      )\n",
      "    (2): UniversalSentenceEncoder(\n",
      "        (metric):  angular\n",
      "        (threshold):  0.840845057\n",
      "        (window_size):  15\n",
      "        (skip_text_shorter_than_window):  True\n",
      "        (compare_against_original):  False\n",
      "      )\n",
      "    (3): RepeatModification\n",
      "    (4): StopwordModification\n",
      "    (5): InputColumnModification(\n",
      "        (matching_column_labels):  ['premise', 'hypothesis']\n",
      "        (columns_to_ignore):  {'premise'}\n",
      "      )\n",
      "  (is_black_box):  True\n",
      ") \n",
      "\n"
     ]
    },
    {
     "name": "stderr",
     "output_type": "stream",
     "text": [
      "  0%|                                                                                                                                           | 0/10 [00:00<?, ?it/s]2023-02-07 09:12:46.145539: W tensorflow/tsl/platform/profile_utils/cpu_utils.cc:128] Failed to get CPU frequency: 0 Hz\n",
      " 10%|█████████████                                                                                                                      | 1/10 [00:04<00:42,  4.77s/it]"
     ]
    },
    {
     "name": "stdout",
     "output_type": "stream",
     "text": [
      "--------------------------------------------- Result 1 ---------------------------------------------\n"
     ]
    },
    {
     "name": "stderr",
     "output_type": "stream",
     "text": [
      "[Succeeded / Failed / Skipped / Total] 4 / 0 / 6 / 10: 100%|███████████████████████████████████████████████████████████████████████████| 10/10 [00:06<00:00,  1.64it/s]"
     ]
    },
    {
     "name": "stdout",
     "output_type": "stream",
     "text": [
      "[[1 (58%)]] --> [[0 (58%)]]\n",
      "\n",
      "lovingly photographed in the manner of a golden book sprung to [[life]] , stuart little 2 manages sweetness largely without stickiness .\n",
      "\n",
      "lovingly photographed in the manner of a golden book sprung to [[vie]] , stuart little 2 manages sweetness largely without stickiness .\n",
      "\n",
      "\n",
      "--------------------------------------------- Result 2 ---------------------------------------------\n",
      "[[0 (50%)]] --> [[[SKIPPED]]]\n",
      "\n",
      "consistently clever and suspenseful .\n",
      "\n",
      "\n",
      "--------------------------------------------- Result 3 ---------------------------------------------\n",
      "[[0 (64%)]] --> [[[SKIPPED]]]\n",
      "\n",
      "it's like a \" big chill \" reunion of the baader-meinhof gang , only these guys are more harmless pranksters than political activists .\n",
      "\n",
      "\n",
      "--------------------------------------------- Result 4 ---------------------------------------------\n",
      "[[0 (64%)]] --> [[[SKIPPED]]]\n",
      "\n",
      "the story gives ample opportunity for large-scale action and suspense , which director shekhar kapur supplies with tremendous skill .\n",
      "\n",
      "\n",
      "--------------------------------------------- Result 5 ---------------------------------------------\n",
      "[[0 (50%)]] --> [[[SKIPPED]]]\n",
      "\n",
      "red dragon \" never cuts corners .\n",
      "\n",
      "\n",
      "--------------------------------------------- Result 6 ---------------------------------------------\n",
      "[[1 (55%)]] --> [[0 (59%)]]\n",
      "\n",
      "fresnadillo has something serious to say about the ways in which extravagant chance can distort our perspective and throw us off the path of [[good]] sense .\n",
      "\n",
      "fresnadillo has something serious to say about the ways in which extravagant chance can distort our perspective and throw us off the path of [[better]] sense .\n",
      "\n",
      "\n",
      "--------------------------------------------- Result 7 ---------------------------------------------\n",
      "[[1 (54%)]] --> [[0 (51%)]]\n",
      "\n",
      "throws in enough clever and unexpected twists to [[make]] the formula feel fresh .\n",
      "\n",
      "throws in enough clever and unexpected twists to [[accomplish]] the formula feel fresh .\n",
      "\n",
      "\n",
      "--------------------------------------------- Result 8 ---------------------------------------------\n",
      "[[0 (50%)]] --> [[[SKIPPED]]]\n",
      "\n",
      "weighty and ponderous but every bit as filling as the treat of the title .\n",
      "\n",
      "\n",
      "--------------------------------------------- Result 9 ---------------------------------------------\n",
      "[[1 (52%)]] --> [[0 (52%)]]\n",
      "\n",
      "a [[real]] audience-pleaser that will strike a chord with anyone who's ever waited in a doctor's office , emergency room , hospital bed or insurance company office .\n",
      "\n",
      "a [[true]] audience-pleaser that will strike a chord with anyone who's ever waited in a doctor's office , emergency room , hospital bed or insurance company office .\n",
      "\n",
      "\n",
      "--------------------------------------------- Result 10 ---------------------------------------------\n",
      "[[0 (53%)]] --> [[[SKIPPED]]]\n",
      "\n",
      "generates an enormous feeling of empathy for its characters .\n",
      "\n",
      "\n",
      "\n",
      "+-------------------------------+--------+\n",
      "| Attack Results                |        |\n",
      "+-------------------------------+--------+\n",
      "| Number of successful attacks: | 4      |\n",
      "| Number of failed attacks:     | 0      |\n",
      "| Number of skipped attacks:    | 6      |\n",
      "| Original accuracy:            | 40.0%  |\n",
      "| Accuracy under attack:        | 0.0%   |\n",
      "| Attack success rate:          | 100.0% |\n",
      "| Average perturbed word %:     | 5.13%  |\n",
      "| Average num. words per input: | 15.4   |\n",
      "| Avg num queries:              | 49.25  |\n",
      "+-------------------------------+--------+\n"
     ]
    },
    {
     "name": "stderr",
     "output_type": "stream",
     "text": [
      "\n"
     ]
    }
   ],
   "source": [
    "# Attack with a recipe:\n",
    "# https://textattack.readthedocs.io/en/latest/3recipes/attack_recipes.html#textfooler-is-bert-really-robust\n",
    "attack = TextFoolerJin2019.build(model_wrapper)\n",
    "\n",
    "attacker = Attacker(attack, dataset_attack, AttackArgs(num_examples=10))\n",
    "attack_results = attacker.attack_dataset()"
   ]
  },
  {
   "cell_type": "code",
   "execution_count": 13,
   "id": "38e7058a",
   "metadata": {},
   "outputs": [
    {
     "name": "stderr",
     "output_type": "stream",
     "text": [
      "textattack: Logging to CSV at path results.csv\n"
     ]
    },
    {
     "data": {
      "text/html": [
       "<table border=\"1\" class=\"dataframe\">\n",
       "  <thead>\n",
       "    <tr style=\"text-align: right;\">\n",
       "      <th></th>\n",
       "      <th>original_text</th>\n",
       "      <th>perturbed_text</th>\n",
       "      <th>original_output</th>\n",
       "      <th>perturbed_output</th>\n",
       "      <th>ground_truth_output</th>\n",
       "    </tr>\n",
       "  </thead>\n",
       "  <tbody>\n",
       "    <tr>\n",
       "      <th>0</th>\n",
       "      <td>lovingly photographed in the manner of a golden book sprung to <font color = green>life</font> , stuart little 2 manages sweetness largely without stickiness .</td>\n",
       "      <td>lovingly photographed in the manner of a golden book sprung to <font color = red>vie</font> , stuart little 2 manages sweetness largely without stickiness .</td>\n",
       "      <td>1</td>\n",
       "      <td>0</td>\n",
       "      <td>1</td>\n",
       "    </tr>\n",
       "    <tr>\n",
       "      <th>1</th>\n",
       "      <td>consistently clever and suspenseful .</td>\n",
       "      <td>consistently clever and suspenseful .</td>\n",
       "      <td>0</td>\n",
       "      <td>0</td>\n",
       "      <td>1</td>\n",
       "    </tr>\n",
       "    <tr>\n",
       "      <th>2</th>\n",
       "      <td>it's like a \" big chill \" reunion of the baader-meinhof gang , only these guys are more harmless pranksters than political activists .</td>\n",
       "      <td>it's like a \" big chill \" reunion of the baader-meinhof gang , only these guys are more harmless pranksters than political activists .</td>\n",
       "      <td>0</td>\n",
       "      <td>0</td>\n",
       "      <td>1</td>\n",
       "    </tr>\n",
       "    <tr>\n",
       "      <th>3</th>\n",
       "      <td>the story gives ample opportunity for large-scale action and suspense , which director shekhar kapur supplies with tremendous skill .</td>\n",
       "      <td>the story gives ample opportunity for large-scale action and suspense , which director shekhar kapur supplies with tremendous skill .</td>\n",
       "      <td>0</td>\n",
       "      <td>0</td>\n",
       "      <td>1</td>\n",
       "    </tr>\n",
       "    <tr>\n",
       "      <th>4</th>\n",
       "      <td>red dragon \" never cuts corners .</td>\n",
       "      <td>red dragon \" never cuts corners .</td>\n",
       "      <td>0</td>\n",
       "      <td>0</td>\n",
       "      <td>1</td>\n",
       "    </tr>\n",
       "    <tr>\n",
       "      <th>5</th>\n",
       "      <td>fresnadillo has something serious to say about the ways in which extravagant chance can distort our perspective and throw us off the path of <font color = green>good</font> sense .</td>\n",
       "      <td>fresnadillo has something serious to say about the ways in which extravagant chance can distort our perspective and throw us off the path of <font color = red>better</font> sense .</td>\n",
       "      <td>1</td>\n",
       "      <td>0</td>\n",
       "      <td>1</td>\n",
       "    </tr>\n",
       "    <tr>\n",
       "      <th>6</th>\n",
       "      <td>throws in enough clever and unexpected twists to <font color = green>make</font> the formula feel fresh .</td>\n",
       "      <td>throws in enough clever and unexpected twists to <font color = red>accomplish</font> the formula feel fresh .</td>\n",
       "      <td>1</td>\n",
       "      <td>0</td>\n",
       "      <td>1</td>\n",
       "    </tr>\n",
       "    <tr>\n",
       "      <th>7</th>\n",
       "      <td>weighty and ponderous but every bit as filling as the treat of the title .</td>\n",
       "      <td>weighty and ponderous but every bit as filling as the treat of the title .</td>\n",
       "      <td>0</td>\n",
       "      <td>0</td>\n",
       "      <td>1</td>\n",
       "    </tr>\n",
       "    <tr>\n",
       "      <th>8</th>\n",
       "      <td>a <font color = green>real</font> audience-pleaser that will strike a chord with anyone who's ever waited in a doctor's office , emergency room , hospital bed or insurance company office .</td>\n",
       "      <td>a <font color = red>true</font> audience-pleaser that will strike a chord with anyone who's ever waited in a doctor's office , emergency room , hospital bed or insurance company office .</td>\n",
       "      <td>1</td>\n",
       "      <td>0</td>\n",
       "      <td>1</td>\n",
       "    </tr>\n",
       "    <tr>\n",
       "      <th>9</th>\n",
       "      <td>generates an enormous feeling of empathy for its characters .</td>\n",
       "      <td>generates an enormous feeling of empathy for its characters .</td>\n",
       "      <td>0</td>\n",
       "      <td>0</td>\n",
       "      <td>1</td>\n",
       "    </tr>\n",
       "  </tbody>\n",
       "</table>"
      ],
      "text/plain": [
       "<IPython.core.display.HTML object>"
      ]
     },
     "metadata": {},
     "output_type": "display_data"
    }
   ],
   "source": [
    "display_log(attack_results)"
   ]
  },
  {
   "cell_type": "code",
   "execution_count": 14,
   "id": "9195410c",
   "metadata": {},
   "outputs": [
    {
     "name": "stderr",
     "output_type": "stream",
     "text": [
      "textattack: Unknown if model of class <class 'sklearn.naive_bayes.MultinomialNB'> compatible with goal function <class 'textattack.goal_functions.classification.untargeted_classification.UntargetedClassification'>.\n"
     ]
    },
    {
     "name": "stdout",
     "output_type": "stream",
     "text": [
      "Attack(\n",
      "  (search_method): GreedySearch\n",
      "  (goal_function):  UntargetedClassification\n",
      "  (transformation):  CompositeTransformation(\n",
      "    (0): WordSwapNeighboringCharacterSwap(\n",
      "        (random_one):  False\n",
      "      )\n",
      "    (1): WordSwapRandomCharacterDeletion(\n",
      "        (random_one):  False\n",
      "      )\n",
      "    (2): WordSwapRandomCharacterInsertion(\n",
      "        (random_one):  False\n",
      "      )\n",
      "    (3): WordSwapQWERTY\n",
      "    )\n",
      "  (constraints): \n",
      "    (0): MaxWordsPerturbed(\n",
      "        (max_num_words):  1\n",
      "        (compare_against_original):  True\n",
      "      )\n",
      "    (1): MinWordLength\n",
      "    (2): StopwordModification\n",
      "    (3): RepeatModification\n",
      "  (is_black_box):  True\n",
      ") \n",
      "\n"
     ]
    },
    {
     "name": "stderr",
     "output_type": "stream",
     "text": [
      "[Succeeded / Failed / Skipped / Total] 1 / 0 / 4 / 5:  50%|██████████████████████████████████████▌                                      | 5/10 [00:00<00:00, 56.27it/s]"
     ]
    },
    {
     "name": "stdout",
     "output_type": "stream",
     "text": [
      "--------------------------------------------- Result 1 ---------------------------------------------\n",
      "[[1 (58%)]] --> [[0 (58%)]]\n",
      "\n",
      "lovingly photographed in the manner of a golden book sprung to [[life]] , stuart little 2 manages sweetness largely without stickiness .\n",
      "\n",
      "lovingly photographed in the manner of a golden book sprung to [[lfe]] , stuart little 2 manages sweetness largely without stickiness .\n",
      "\n",
      "\n",
      "--------------------------------------------- Result 2 ---------------------------------------------\n",
      "[[0 (50%)]] --> [[[SKIPPED]]]\n",
      "\n",
      "consistently clever and suspenseful .\n",
      "\n",
      "\n",
      "--------------------------------------------- Result 3 ---------------------------------------------\n",
      "[[0 (64%)]] --> [[[SKIPPED]]]\n",
      "\n",
      "it's like a \" big chill \" reunion of the baader-meinhof gang , only these guys are more harmless pranksters than political activists .\n",
      "\n",
      "\n",
      "--------------------------------------------- Result 4 ---------------------------------------------\n",
      "[[0 (64%)]] --> [[[SKIPPED]]]\n",
      "\n",
      "the story gives ample opportunity for large-scale action and suspense , which director shekhar kapur supplies with tremendous skill .\n",
      "\n",
      "\n",
      "--------------------------------------------- Result 5 ---------------------------------------------\n",
      "[[0 (50%)]] --> [[[SKIPPED]]]\n",
      "\n",
      "red dragon \" never cuts corners .\n",
      "\n",
      "\n"
     ]
    },
    {
     "name": "stderr",
     "output_type": "stream",
     "text": [
      "[Succeeded / Failed / Skipped / Total] 2 / 1 / 5 / 8:  80%|█████████████████████████████████████████████████████████████▌               | 8/10 [00:00<00:00, 33.10it/s]"
     ]
    },
    {
     "name": "stdout",
     "output_type": "stream",
     "text": [
      "--------------------------------------------- Result 6 ---------------------------------------------\n",
      "[[1 (55%)]] --> [[[FAILED]]]\n",
      "\n",
      "fresnadillo has something serious to say about the ways in which extravagant chance can distort our perspective and throw us off the path of good sense .\n",
      "\n",
      "\n",
      "--------------------------------------------- Result 7 ---------------------------------------------\n",
      "[[1 (54%)]] --> [[0 (51%)]]\n",
      "\n",
      "throws in enough clever and unexpected twists to [[make]] the formula feel fresh .\n",
      "\n",
      "throws in enough clever and unexpected twists to [[maTke]] the formula feel fresh .\n",
      "\n",
      "\n",
      "--------------------------------------------- Result 8 ---------------------------------------------\n",
      "[[0 (50%)]] --> [[[SKIPPED]]]\n",
      "\n",
      "weighty and ponderous but every bit as filling as the treat of the title .\n",
      "\n",
      "\n"
     ]
    },
    {
     "name": "stderr",
     "output_type": "stream",
     "text": [
      "[Succeeded / Failed / Skipped / Total] 3 / 1 / 6 / 10: 100%|███████████████████████████████████████████████████████████████████████████| 10/10 [00:00<00:00, 30.26it/s]"
     ]
    },
    {
     "name": "stdout",
     "output_type": "stream",
     "text": [
      "--------------------------------------------- Result 9 ---------------------------------------------\n",
      "[[1 (52%)]] --> [[0 (52%)]]\n",
      "\n",
      "a [[real]] audience-pleaser that will strike a chord with anyone who's ever waited in a doctor's office , emergency room , hospital bed or insurance company office .\n",
      "\n",
      "a [[rael]] audience-pleaser that will strike a chord with anyone who's ever waited in a doctor's office , emergency room , hospital bed or insurance company office .\n",
      "\n",
      "\n",
      "--------------------------------------------- Result 10 ---------------------------------------------\n",
      "[[0 (53%)]] --> [[[SKIPPED]]]\n",
      "\n",
      "generates an enormous feeling of empathy for its characters .\n",
      "\n",
      "\n",
      "\n",
      "+-------------------------------+-------+\n",
      "| Attack Results                |       |\n",
      "+-------------------------------+-------+\n",
      "| Number of successful attacks: | 3     |\n",
      "| Number of failed attacks:     | 1     |\n",
      "| Number of skipped attacks:    | 6     |\n",
      "| Original accuracy:            | 40.0% |\n",
      "| Accuracy under attack:        | 10.0% |\n",
      "| Attack success rate:          | 75.0% |\n",
      "| Average perturbed word %:     | 5.56% |\n",
      "| Average num. words per input: | 15.4  |\n",
      "| Avg num queries:              | 458.5 |\n",
      "+-------------------------------+-------+\n"
     ]
    },
    {
     "name": "stderr",
     "output_type": "stream",
     "text": [
      "\n"
     ]
    }
   ],
   "source": [
    "# Attack with a recipe:\n",
    "# https://textattack.readthedocs.io/en/latest/3recipes/attack_recipes.html#pruthi2019-combating-with-robust-word-recognition\n",
    "attack = Pruthi2019.build(model_wrapper)\n",
    "\n",
    "attacker = Attacker(attack, dataset_attack, AttackArgs(num_examples=10))\n",
    "attack_results = attacker.attack_dataset()"
   ]
  },
  {
   "cell_type": "code",
   "execution_count": 15,
   "id": "ca7eff0b",
   "metadata": {},
   "outputs": [
    {
     "name": "stderr",
     "output_type": "stream",
     "text": [
      "textattack: Logging to CSV at path results.csv\n"
     ]
    },
    {
     "data": {
      "text/html": [
       "<table border=\"1\" class=\"dataframe\">\n",
       "  <thead>\n",
       "    <tr style=\"text-align: right;\">\n",
       "      <th></th>\n",
       "      <th>original_text</th>\n",
       "      <th>perturbed_text</th>\n",
       "      <th>original_output</th>\n",
       "      <th>perturbed_output</th>\n",
       "      <th>ground_truth_output</th>\n",
       "    </tr>\n",
       "  </thead>\n",
       "  <tbody>\n",
       "    <tr>\n",
       "      <th>0</th>\n",
       "      <td>lovingly photographed in the manner of a golden book sprung to <font color = green>life</font> , stuart little 2 manages sweetness largely without stickiness .</td>\n",
       "      <td>lovingly photographed in the manner of a golden book sprung to <font color = red>lfe</font> , stuart little 2 manages sweetness largely without stickiness .</td>\n",
       "      <td>1</td>\n",
       "      <td>0</td>\n",
       "      <td>1</td>\n",
       "    </tr>\n",
       "    <tr>\n",
       "      <th>1</th>\n",
       "      <td>consistently clever and suspenseful .</td>\n",
       "      <td>consistently clever and suspenseful .</td>\n",
       "      <td>0</td>\n",
       "      <td>0</td>\n",
       "      <td>1</td>\n",
       "    </tr>\n",
       "    <tr>\n",
       "      <th>2</th>\n",
       "      <td>it's like a \" big chill \" reunion of the baader-meinhof gang , only these guys are more harmless pranksters than political activists .</td>\n",
       "      <td>it's like a \" big chill \" reunion of the baader-meinhof gang , only these guys are more harmless pranksters than political activists .</td>\n",
       "      <td>0</td>\n",
       "      <td>0</td>\n",
       "      <td>1</td>\n",
       "    </tr>\n",
       "    <tr>\n",
       "      <th>3</th>\n",
       "      <td>the story gives ample opportunity for large-scale action and suspense , which director shekhar kapur supplies with tremendous skill .</td>\n",
       "      <td>the story gives ample opportunity for large-scale action and suspense , which director shekhar kapur supplies with tremendous skill .</td>\n",
       "      <td>0</td>\n",
       "      <td>0</td>\n",
       "      <td>1</td>\n",
       "    </tr>\n",
       "    <tr>\n",
       "      <th>4</th>\n",
       "      <td>red dragon \" never cuts corners .</td>\n",
       "      <td>red dragon \" never cuts corners .</td>\n",
       "      <td>0</td>\n",
       "      <td>0</td>\n",
       "      <td>1</td>\n",
       "    </tr>\n",
       "    <tr>\n",
       "      <th>5</th>\n",
       "      <td>fresnadillo has something serious to say about the ways in which extravagant chance can distort our perspective and throw us off the path of <font color = green>good</font> sense .</td>\n",
       "      <td>fresnadillo has something serious to say about the ways in which extravagant chance can distort our perspective and throw us off the path of <font color = green>giod</font> sense .</td>\n",
       "      <td>1</td>\n",
       "      <td>1</td>\n",
       "      <td>1</td>\n",
       "    </tr>\n",
       "    <tr>\n",
       "      <th>6</th>\n",
       "      <td>throws in enough clever and unexpected twists to <font color = green>make</font> the formula feel fresh .</td>\n",
       "      <td>throws in enough clever and unexpected twists to <font color = red>maTke</font> the formula feel fresh .</td>\n",
       "      <td>1</td>\n",
       "      <td>0</td>\n",
       "      <td>1</td>\n",
       "    </tr>\n",
       "    <tr>\n",
       "      <th>7</th>\n",
       "      <td>weighty and ponderous but every bit as filling as the treat of the title .</td>\n",
       "      <td>weighty and ponderous but every bit as filling as the treat of the title .</td>\n",
       "      <td>0</td>\n",
       "      <td>0</td>\n",
       "      <td>1</td>\n",
       "    </tr>\n",
       "    <tr>\n",
       "      <th>8</th>\n",
       "      <td>a <font color = green>real</font> audience-pleaser that will strike a chord with anyone who's ever waited in a doctor's office , emergency room , hospital bed or insurance company office .</td>\n",
       "      <td>a <font color = red>rael</font> audience-pleaser that will strike a chord with anyone who's ever waited in a doctor's office , emergency room , hospital bed or insurance company office .</td>\n",
       "      <td>1</td>\n",
       "      <td>0</td>\n",
       "      <td>1</td>\n",
       "    </tr>\n",
       "    <tr>\n",
       "      <th>9</th>\n",
       "      <td>generates an enormous feeling of empathy for its characters .</td>\n",
       "      <td>generates an enormous feeling of empathy for its characters .</td>\n",
       "      <td>0</td>\n",
       "      <td>0</td>\n",
       "      <td>1</td>\n",
       "    </tr>\n",
       "  </tbody>\n",
       "</table>"
      ],
      "text/plain": [
       "<IPython.core.display.HTML object>"
      ]
     },
     "metadata": {},
     "output_type": "display_data"
    }
   ],
   "source": [
    "display_log(attack_results)"
   ]
  },
  {
   "cell_type": "code",
   "execution_count": null,
   "id": "c3dbdf37",
   "metadata": {},
   "outputs": [],
   "source": []
  }
 ],
 "metadata": {
  "kernelspec": {
   "display_name": "Python 3 (ipykernel)",
   "language": "python",
   "name": "python3"
  },
  "language_info": {
   "codemirror_mode": {
    "name": "ipython",
    "version": 3
   },
   "file_extension": ".py",
   "mimetype": "text/x-python",
   "name": "python",
   "nbconvert_exporter": "python",
   "pygments_lexer": "ipython3",
   "version": "3.10.9"
  }
 },
 "nbformat": 4,
 "nbformat_minor": 5
}
